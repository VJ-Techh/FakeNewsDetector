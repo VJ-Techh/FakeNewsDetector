{
 "cells": [
  {
   "cell_type": "code",
   "execution_count": null,
   "id": "ae2d8a24-ab8f-4318-b228-dd6359101dfa",
   "metadata": {},
   "outputs": [],
   "source": [
    "import csv\n",
    "import pandas as pd"
   ]
  },
  {
   "cell_type": "code",
   "execution_count": null,
   "id": "c30d6951-284e-40dd-a5ec-29305ee77016",
   "metadata": {},
   "outputs": [],
   "source": [
    "truth = pd.read_csv('True.csv')\n",
    "fake = pd.read_csv('Fake.csv')\n",
    "truth.head() #Returns n rows, default first 5 rows"
   ]
  },
  {
   "cell_type": "code",
   "execution_count": null,
   "id": "63eae046-1de5-443c-b87d-d518f1f80b66",
   "metadata": {},
   "outputs": [],
   "source": [
    "fake.head()    "
   ]
  },
  {
   "cell_type": "code",
   "execution_count": null,
   "id": "7e0df176-b310-4caf-a136-be48628ea5ed",
   "metadata": {},
   "outputs": [],
   "source": [
    "truth['label'] = 1\n",
    "fake['label'] = 0\n",
    "truth.head()"
   ]
  },
  {
   "cell_type": "code",
   "execution_count": null,
   "id": "cf418e53-68af-460c-9bd6-be3b27be6384",
   "metadata": {},
   "outputs": [],
   "source": [
    "news = pd.concat([truth, fake], axis = 0)        #axis zero is for concatenating in the rows wise\n",
    "                                                 #Mixing both the fake and true news\n",
    "\n",
    "news.head()"
   ]
  },
  {
   "cell_type": "code",
   "execution_count": null,
   "id": "a6bb76b7-7085-4124-81ac-d77e77c4abed",
   "metadata": {},
   "outputs": [],
   "source": [
    "news.isnull().sum()"
   ]
  },
  {
   "cell_type": "code",
   "execution_count": null,
   "id": "30e09bf9-e350-45fe-80f0-94b585351a87",
   "metadata": {},
   "outputs": [],
   "source": [
    "news = news.drop(['title', 'subject','date'], axis = 1)     #title, subject and date column is not required for the project\n",
    "#drops the columns as mentioned (axis = 1 is for column wise)\n",
    "news.head()"
   ]
  },
  {
   "cell_type": "code",
   "execution_count": null,
   "id": "efa6e0b4-1967-48dc-bac9-b4b614987222",
   "metadata": {},
   "outputs": [],
   "source": [
    "news = news.sample(frac = 1)    #reshuffling\n",
    "#frac here is responsible for the percentage of data you want to reshuffle, frac = 1 is 100% data\n",
    "news.head() "
   ]
  },
  {
   "cell_type": "code",
   "execution_count": null,
   "id": "e822204f-62f7-49d1-ac2a-5eed63c257fc",
   "metadata": {},
   "outputs": [],
   "source": [
    "news.reset_index(inplace =True)      #reset_index function resets the index\n",
    "                                     #inplace = True,  Updates the news DataFrame in place instead of returning a new one.\n",
    "                                     #for False, it would return a copy of the news DataFrame modified\n",
    "news.head()"
   ]
  },
  {
   "cell_type": "code",
   "execution_count": null,
   "id": "5145a021-e343-4a77-9252-6b1ad700611a",
   "metadata": {},
   "outputs": [],
   "source": [
    "news.drop(['index'], axis = 1, inplace =True)      #The old data index was invalid now so we got rid of it\n",
    "news.head()"
   ]
  },
  {
   "cell_type": "code",
   "execution_count": null,
   "id": "5e5ae6a8-aa7f-4a3a-9cc9-407f32fb4f59",
   "metadata": {},
   "outputs": [],
   "source": [
    "#Converting into numerical data would be better since ML responds and processes numerical data better\n",
    "#Convert them into numerical vectors, through this we can assign some weight to few important texts\n",
    "#Making it code readable by the machine"
   ]
  },
  {
   "cell_type": "code",
   "execution_count": null,
   "id": "c517af23-274b-468d-8ceb-2b1cc4d07cc2",
   "metadata": {},
   "outputs": [],
   "source": [
    "import re\n",
    "#The re module in Python is used for working with regular expressions. It helps you find, replace, and manipulate text patterns efficiently"
   ]
  },
  {
   "cell_type": "code",
   "execution_count": null,
   "id": "77ef4387-a09a-468b-a25f-d24b1e18cc66",
   "metadata": {},
   "outputs": [],
   "source": [
    "def wordrop(text):\n",
    "    #Making text clean, models don't work on raw test\n",
    "    # Convert into lowercase\n",
    "    text = text.lower()\n",
    "    \n",
    "    \"\"\"We use patterns with re module. The pattern for url which has been used will be available in its documentation,\n",
    "    memorizing is not necessary\"\"\"\n",
    "    \n",
    "    # Removes URLs\n",
    "    text = re.sub(r\"https?://\\S+|www\\.\\S+\", \"\", text)\n",
    "    \n",
    "    # Removes HTML tags\n",
    "    text = re.sub(r'<.*?>', '', text)  \n",
    "\n",
    "     # Removes digits\n",
    "    text = re.sub(r'\\d+', '', text) \n",
    "\n",
    "    # Removes punctuation\n",
    "    text = re.sub(r'[^\\w\\s]', '', text)\n",
    "\n",
    "    # Removes newline characters\n",
    "    text = re.sub(r'\\n+', ' ', text)\n",
    "\n",
    "    return text\n",
    "\n",
    "    \n",
    "   "
   ]
  },
  {
   "cell_type": "code",
   "execution_count": null,
   "id": "4c06c6dc-faf2-44ad-b446-2e33e3c35fc7",
   "metadata": {},
   "outputs": [],
   "source": [
    "news['text'] = news['text'].apply(wordrop)           #Updating the text in the DataFrame"
   ]
  },
  {
   "cell_type": "code",
   "execution_count": null,
   "id": "eed22d35-56a6-458b-bca0-3253acb17d39",
   "metadata": {},
   "outputs": [],
   "source": [
    "news['text']"
   ]
  },
  {
   "cell_type": "code",
   "execution_count": null,
   "id": "52cc66e6-4969-46b7-b857-c71540c9b7da",
   "metadata": {},
   "outputs": [],
   "source": [
    "x = news['text']\n",
    "y = news['label']"
   ]
  },
  {
   "cell_type": "code",
   "execution_count": null,
   "id": "5836054b-3675-4713-a1bf-a66e84cac737",
   "metadata": {},
   "outputs": [],
   "source": [
    "x"
   ]
  },
  {
   "cell_type": "code",
   "execution_count": null,
   "id": "6afc649d-a9fe-49f4-854b-79b9f66ce6f1",
   "metadata": {},
   "outputs": [],
   "source": [
    "y"
   ]
  },
  {
   "cell_type": "code",
   "execution_count": null,
   "id": "96e4c265-501c-428c-9725-088834aa56d0",
   "metadata": {},
   "outputs": [],
   "source": [
    "from sklearn.model_selection import train_test_split     #function for splitting datasets into training and testing sets!"
   ]
  },
  {
   "cell_type": "code",
   "execution_count": null,
   "id": "f9859e30-7176-40b0-8bc7-3af4371dfbbc",
   "metadata": {},
   "outputs": [],
   "source": [
    "x_train, x_test, y_train, y_test = train_test_split(x,y,test_size=0.3)    #using 30% of data for testing, and 70% for training"
   ]
  },
  {
   "cell_type": "code",
   "execution_count": null,
   "id": "9e7d13d4-0b35-4c9a-91e7-591c4796a47d",
   "metadata": {},
   "outputs": [],
   "source": [
    "x_train.shape"
   ]
  },
  {
   "cell_type": "code",
   "execution_count": null,
   "id": "1372818e-61ae-4840-8c92-53013cc53e0b",
   "metadata": {},
   "outputs": [],
   "source": [
    "x_test.shape"
   ]
  },
  {
   "cell_type": "code",
   "execution_count": null,
   "id": "90bbe702-9641-4af4-bc0c-1f21613844d3",
   "metadata": {},
   "outputs": [],
   "source": [
    "from sklearn.feature_extraction.text import TfidfVectorizer \n",
    "#used for converting text into numerical values using the TF-IDF (Term Frequency-Inverse Document Frequency) technique.\n"
   ]
  },
  {
   "cell_type": "code",
   "execution_count": null,
   "id": "5a0f2a4f-9516-4fd6-96ad-ba0d39b45ce4",
   "metadata": {},
   "outputs": [],
   "source": [
    "vectorization = TfidfVectorizer()"
   ]
  },
  {
   "cell_type": "code",
   "execution_count": null,
   "id": "927d318d-30cc-4279-832d-c1ccb383c6dc",
   "metadata": {},
   "outputs": [],
   "source": [
    "xv_train = vectorization.fit_transform(x_train)"
   ]
  },
  {
   "cell_type": "code",
   "execution_count": null,
   "id": "ef379fd9-4393-4767-88cc-dc7480d2555f",
   "metadata": {},
   "outputs": [],
   "source": [
    "xv_test = vectorization.transform(x_test)"
   ]
  },
  {
   "cell_type": "code",
   "execution_count": null,
   "id": "10e9b28e-10ab-4299-97d4-2e0e1792521c",
   "metadata": {},
   "outputs": [],
   "source": [
    "xv_train"
   ]
  },
  {
   "cell_type": "code",
   "execution_count": null,
   "id": "e20f0ea6-7731-452e-b6e4-92b877d8b2dd",
   "metadata": {},
   "outputs": [],
   "source": [
    "xv_test\n"
   ]
  },
  {
   "cell_type": "code",
   "execution_count": null,
   "id": "8bf1b706-6f48-403c-9151-62eb89936296",
   "metadata": {},
   "outputs": [],
   "source": [
    "#Creating a ML model, algorithm over this data\n",
    "#Logistic Regression,  a statistical model commonly used for classification tasks in machine learning\n",
    "from sklearn.linear_model import LogisticRegression\n",
    "#predicts categories, uses probability based approach"
   ]
  },
  {
   "cell_type": "code",
   "execution_count": null,
   "id": "872d32d9-25cb-4ddd-885f-95a5d7c31d4d",
   "metadata": {},
   "outputs": [],
   "source": [
    "LR = LogisticRegression(solver = \"saga\")  #Creating instance, solver saga for handingling CSR format data\n",
    "LR.fit(xv_train ,y_train)"
   ]
  },
  {
   "cell_type": "code",
   "execution_count": null,
   "id": "d18bb54c-d0e0-4727-a306-514c1f9a3b2c",
   "metadata": {},
   "outputs": [],
   "source": [
    "pred_lr = LR.predict(xv_test)"
   ]
  },
  {
   "cell_type": "code",
   "execution_count": null,
   "id": "79a29fe1-4f74-48b8-9cb3-9c7c7a23df10",
   "metadata": {},
   "outputs": [],
   "source": [
    "LR.score(xv_test, y_test)"
   ]
  },
  {
   "cell_type": "code",
   "execution_count": null,
   "id": "dcd8d80c-53d3-4642-b0a7-de94aedc7d4b",
   "metadata": {},
   "outputs": [],
   "source": [
    "from sklearn.metrics import classification_report\n",
    "print(classification_report(y_test, pred_lr))"
   ]
  },
  {
   "cell_type": "code",
   "execution_count": null,
   "id": "7224c8b9-e9a5-466e-9bc1-9307cf9de8f9",
   "metadata": {},
   "outputs": [],
   "source": [
    "from sklearn.tree import DecisionTreeClassifier\n",
    "# It builds a tree-like structure to decide which category a given input belongs to.\n",
    "DTC = DecisionTreeClassifier()\n",
    "DTC.fit(xv_train, y_train)"
   ]
  },
  {
   "cell_type": "code",
   "execution_count": null,
   "id": "3d0b2a60-a0c4-4586-b989-88db5dcd07d5",
   "metadata": {},
   "outputs": [],
   "source": [
    "pred_dtc = DTC.predict(xv_test)"
   ]
  },
  {
   "cell_type": "code",
   "execution_count": null,
   "id": "e0d3f504-be7f-4f94-87a6-5d0ad4e2f74a",
   "metadata": {},
   "outputs": [],
   "source": [
    "DTC.score(xv_test, y_test)"
   ]
  },
  {
   "cell_type": "code",
   "execution_count": null,
   "id": "62215450-4c9b-4fb8-9824-2c2ed6e4f82a",
   "metadata": {},
   "outputs": [],
   "source": [
    "from sklearn.metrics import classification_report\n",
    "print(classification_report(y_test, pred_dtc))"
   ]
  },
  {
   "cell_type": "code",
   "execution_count": null,
   "id": "cc311929-9c4a-4e94-b54d-19a9c708aec7",
   "metadata": {},
   "outputs": [],
   "source": [
    "from sklearn.ensemble import RandomForestClassifier\n",
    "# combines multiple decision trees to improve accuracy and reduce overfitting. It works by creating a \"forest\" of decision trees and averaging their predictions.\n"
   ]
  },
  {
   "cell_type": "code",
   "execution_count": null,
   "id": "4399f3cb-bc05-4d8b-9e5d-eee2db012764",
   "metadata": {},
   "outputs": [],
   "source": [
    "rfc = RandomForestClassifier()\n",
    "rfc.fit(xv_train, y_train)\n",
    "predict_rfc = rfc.predict(xv_test)"
   ]
  },
  {
   "cell_type": "code",
   "execution_count": null,
   "id": "1f32bb35-2121-4765-b40e-ae3ca34191f2",
   "metadata": {},
   "outputs": [],
   "source": [
    "rfc.score(xv_test, y_test)"
   ]
  },
  {
   "cell_type": "code",
   "execution_count": null,
   "id": "b80fce2b-b4c6-47f5-b6be-32d0bd0107cc",
   "metadata": {},
   "outputs": [],
   "source": [
    "print(classification_report(y_test,predict_rfc))"
   ]
  },
  {
   "cell_type": "code",
   "execution_count": null,
   "id": "becc482a-baa6-48e7-bccc-87b05aa3e8ca",
   "metadata": {},
   "outputs": [],
   "source": [
    "#another algorithm\n",
    "from sklearn.ensemble import GradientBoostingClassifier\n",
    "#ensemble learning technique that builds multiple weak models (typically decision trees) and boosts their performance by focusing on hard-to-classify examples.\n",
    "\n",
    "gbc = GradientBoostingClassifier()\n",
    "gbc.fit(xv_train, y_train)"
   ]
  },
  {
   "cell_type": "code",
   "execution_count": null,
   "id": "8a69bef4-3e33-40c6-9cd8-0fe10773f02f",
   "metadata": {},
   "outputs": [],
   "source": [
    "preed_gbc = gbc_predict(xv_test)\n",
    "gbc.score(xv_test, y_test)"
   ]
  },
  {
   "cell_type": "code",
   "execution_count": null,
   "id": "07c29b8e-2e83-4949-8d9c-f400783420f4",
   "metadata": {},
   "outputs": [],
   "source": [
    "print(classification_report(y_test,preed_gbc))"
   ]
  },
  {
   "cell_type": "code",
   "execution_count": null,
   "id": "f27a3e20-aec8-465f-b976-6ce238456a2b",
   "metadata": {},
   "outputs": [],
   "source": [
    "def output_label(n):\n",
    "    if n == 0:\n",
    "        return \"It is a Fake News\"\n",
    "    elif n == 1:\n",
    "        return \"It is a Genuine News\""
   ]
  },
  {
   "cell_type": "code",
   "execution_count": null,
   "id": "7a489be6-fe27-4c98-b06b-0c5d538fd30c",
   "metadata": {},
   "outputs": [],
   "source": [
    "def manual_testing(news):\n",
    "    testing_news = {\"text\": [news]}   \n",
    "    new_def_test = pd.DataFrame(testing_news)\n",
    "    new_def_test[\"text\"] = new_def_test[\"text\"].apply(wordrop)\n",
    "    new_x_test = new_def_test[\"text\"]\n",
    "    new_xv_test = vectorization.transform(new_x_test)\n",
    "    pred_lr = LR.predict(new_xv_test)\n",
    "    pred_gbc = gbc.predict(new_xv_test)\n",
    "    pred_rfc = rfc.predict(new_xv_test)\n",
    "    return \"\\n\\nLR Prediction: {}  \\nGBC Prediction:  {}  \\nRFC  Prediction:  {}\".format(output_label(pred_lr[0]),  output_label(pred_gbc[0]), output_label(pred_rfc[0]))"
   ]
  },
  {
   "cell_type": "code",
   "execution_count": null,
   "id": "dd0c8aa2-990d-44d4-ab8e-4c590b8283e9",
   "metadata": {},
   "outputs": [],
   "source": [
    "news_article = str(input(\"Enter news article\"))\n"
   ]
  },
  {
   "cell_type": "code",
   "execution_count": null,
   "id": "1efb8144-0873-49e9-915d-fc389e5c4c85",
   "metadata": {},
   "outputs": [],
   "source": [
    "manual_testing(news_article)"
   ]
  },
  {
   "cell_type": "code",
   "execution_count": null,
   "id": "b3cf7630-5799-4ca6-8b15-d7872b57bea1",
   "metadata": {},
   "outputs": [],
   "source": []
  }
 ],
 "metadata": {
  "kernelspec": {
   "display_name": "Python 3 (ipykernel)",
   "language": "python",
   "name": "python3"
  },
  "language_info": {
   "codemirror_mode": {
    "name": "ipython",
    "version": 3
   },
   "file_extension": ".py",
   "mimetype": "text/x-python",
   "name": "python",
   "nbconvert_exporter": "python",
   "pygments_lexer": "ipython3",
   "version": "3.12.7"
  },
  "widgets": {
   "application/vnd.jupyter.widget-state+json": {
    "state": {},
    "version_major": 2,
    "version_minor": 0
   }
  }
 },
 "nbformat": 4,
 "nbformat_minor": 5
}
